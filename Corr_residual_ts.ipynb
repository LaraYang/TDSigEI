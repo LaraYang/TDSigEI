{
 "cells": [
  {
   "cell_type": "code",
   "execution_count": 1,
   "metadata": {
    "collapsed": false
   },
   "outputs": [
    {
     "name": "stdout",
     "output_type": "stream",
     "text": [
      "Populating the interactive namespace from numpy and matplotlib\n"
     ]
    }
   ],
   "source": [
    "%pylab inline\n",
    "from __future__ import print_function, division\n",
    "import numpy as np\n",
    "import pandas as pd\n",
    "import matplotlib.pyplot as plt\n",
    "import scipy.stats\n",
    "import brewer2mpl"
   ]
  },
  {
   "cell_type": "code",
   "execution_count": 17,
   "metadata": {
    "collapsed": false,
    "scrolled": true
   },
   "outputs": [],
   "source": [
    "#read data\n",
    "%run SC_dataframe.py\n",
    "TS_df = pd.read_csv('Data/TS_df.csv')"
   ]
  },
  {
   "cell_type": "code",
   "execution_count": 18,
   "metadata": {
    "collapsed": false
   },
   "outputs": [],
   "source": [
    "Subjects = [503, 505, 508, 509, 510, 512, 513, 516, 517, 518, 519, 523, 527, 528, 529, 530, 531, 532, 534]\n",
    "Conditions = ['FH', 'Fo', 'Fp', 'HF', 'Ho', 'Hp']\n",
    "MotorMapping = [1, 2]\n",
    "corr_df = []\n",
    "corr_df = pd.DataFrame(columns=['Subj', 'Condition', 'FFA-M','FFA-NM', 'PPA-M', 'PPA-NM'], dtype=float)\n",
    "# extract ts and correlate\n",
    "i=1\n",
    "for s, sub in enumerate(Subjects):\n",
    "    for c, cond in enumerate(Conditions):           \n",
    "        #motor mapping 1, RH-Face LH-Scene\n",
    "        FFA_ts_m1 = np.array(TS_df[(TS_df['Subject'] == sub) & (TS_df['Condition'] == cond) & (TS_df['MotorMapping'] == 1)]['FFA'])\n",
    "        PPA_ts_m1 = np.array(TS_df[(TS_df['Subject'] == sub) & (TS_df['Condition'] == cond) & (TS_df['MotorMapping'] == 1)]['PPA'])\n",
    "        RH_ts_m1 = np.array(TS_df[(TS_df['Subject'] == sub) & (TS_df['Condition'] == cond) & (TS_df['MotorMapping'] == 1)]['RH'])\n",
    "        LH_ts_m1 = np.array(TS_df[(TS_df['Subject'] == sub) & (TS_df['Condition'] == cond) & (TS_df['MotorMapping'] == 1)]['LH'])\n",
    "\n",
    "        #motor mapping 2, RH-Scene, LH-Face\n",
    "        FFA_ts_m2 = np.array(TS_df[(TS_df['Subject'] == sub) & (TS_df['Condition'] == cond) & (TS_df['MotorMapping'] == 2)]['FFA'])\n",
    "        PPA_ts_m2 = np.array(TS_df[(TS_df['Subject'] == sub) & (TS_df['Condition'] == cond) & (TS_df['MotorMapping'] == 2)]['PPA'])\n",
    "        RH_ts_m2 = np.array(TS_df[(TS_df['Subject'] == sub) & (TS_df['Condition'] == cond) & (TS_df['MotorMapping'] == 2)]['RH'])\n",
    "        LH_ts_m2 = np.array(TS_df[(TS_df['Subject'] == sub) & (TS_df['Condition'] == cond) & (TS_df['MotorMapping'] == 2)]['LH'])\n",
    "        \n",
    "        FFA_ts = np.concatenate((FFA_ts_m1, FFA_ts_m2))\n",
    "        PPA_ts = np.concatenate((PPA_ts_m1, PPA_ts_m2))\n",
    "\n",
    "        #here use nan mask to deal with censored data\n",
    "        FFA_ts[FFA_ts==0] = np.nan \n",
    "        PPA_ts[PPA_ts==0] = np.nan\n",
    "        RH_ts_m1[RH_ts_m1==0] = np.nan\n",
    "        LH_ts_m1[LH_ts_m1==0] = np.nan\n",
    "        RH_ts_m2[RH_ts_m2==0] = np.nan\n",
    "        LH_ts_m2[LH_ts_m2==0] = np.nan\n",
    "        FFA_ts = np.ma.array(FFA_ts, mask=np.isnan(FFA_ts))\n",
    "        PPA_ts = np.ma.array(PPA_ts, mask=np.isnan(PPA_ts))\n",
    "        RH_ts_m1 = np.ma.array(RH_ts_m1, mask=np.isnan(RH_ts_m1))\n",
    "        LH_ts_m1 = np.ma.array(LH_ts_m1, mask=np.isnan(LH_ts_m1))\n",
    "        RH_ts_m2 = np.ma.array(RH_ts_m2, mask=np.isnan(RH_ts_m2))\n",
    "        LH_ts_m2 = np.ma.array(LH_ts_m2, mask=np.isnan(LH_ts_m2))\n",
    "\n",
    "        #correlate\n",
    "                  \n",
    "        corr_df.loc[i,'FFA-M'] = np.ma.corrcoef(FFA_ts, np.concatenate((RH_ts_m1, LH_ts_m2)))[0,1]\n",
    "        corr_df.loc[i,'FFA-NM'] = np.ma.corrcoef(FFA_ts, np.concatenate((LH_ts_m1, RH_ts_m2)))[0,1]\n",
    "        corr_df.loc[i,'PPA-M'] = np.ma.corrcoef(PPA_ts, np.concatenate((LH_ts_m1, RH_ts_m2)))[0,1]\n",
    "        corr_df.loc[i,'PPA-NM'] = np.ma.corrcoef(PPA_ts, np.concatenate((RH_ts_m1, LH_ts_m2)))[0,1]\n",
    "\n",
    "        corr_df.loc[i, 'Condition'] = cond\n",
    "        corr_df.loc[i, 'Subj'] = sub\n",
    "        i=i+1\n"
   ]
  },
  {
   "cell_type": "code",
   "execution_count": 19,
   "metadata": {
    "collapsed": false
   },
   "outputs": [
    {
     "data": {
      "text/html": [
       "<div>\n",
       "<table border=\"1\" class=\"dataframe\">\n",
       "  <thead>\n",
       "    <tr style=\"text-align: right;\">\n",
       "      <th></th>\n",
       "      <th>Subj</th>\n",
       "      <th>FFA-M</th>\n",
       "      <th>FFA-NM</th>\n",
       "      <th>PPA-M</th>\n",
       "      <th>PPA-NM</th>\n",
       "    </tr>\n",
       "    <tr>\n",
       "      <th>Condition</th>\n",
       "      <th></th>\n",
       "      <th></th>\n",
       "      <th></th>\n",
       "      <th></th>\n",
       "      <th></th>\n",
       "    </tr>\n",
       "  </thead>\n",
       "  <tbody>\n",
       "    <tr>\n",
       "      <th>FH</th>\n",
       "      <td>519.157895</td>\n",
       "      <td>-0.132683</td>\n",
       "      <td>-0.146149</td>\n",
       "      <td>-0.030000</td>\n",
       "      <td>-0.047611</td>\n",
       "    </tr>\n",
       "    <tr>\n",
       "      <th>Fo</th>\n",
       "      <td>519.157895</td>\n",
       "      <td>-0.118247</td>\n",
       "      <td>-0.115266</td>\n",
       "      <td>-0.003696</td>\n",
       "      <td>-0.005886</td>\n",
       "    </tr>\n",
       "    <tr>\n",
       "      <th>Fp</th>\n",
       "      <td>519.157895</td>\n",
       "      <td>-0.105495</td>\n",
       "      <td>-0.125047</td>\n",
       "      <td>-0.008496</td>\n",
       "      <td>-0.010177</td>\n",
       "    </tr>\n",
       "    <tr>\n",
       "      <th>HF</th>\n",
       "      <td>519.157895</td>\n",
       "      <td>-0.154616</td>\n",
       "      <td>-0.142321</td>\n",
       "      <td>-0.003130</td>\n",
       "      <td>-0.022763</td>\n",
       "    </tr>\n",
       "    <tr>\n",
       "      <th>Ho</th>\n",
       "      <td>519.157895</td>\n",
       "      <td>-0.122476</td>\n",
       "      <td>-0.101064</td>\n",
       "      <td>-0.011414</td>\n",
       "      <td>0.014733</td>\n",
       "    </tr>\n",
       "    <tr>\n",
       "      <th>Hp</th>\n",
       "      <td>519.157895</td>\n",
       "      <td>-0.114773</td>\n",
       "      <td>-0.086152</td>\n",
       "      <td>-0.027944</td>\n",
       "      <td>-0.031177</td>\n",
       "    </tr>\n",
       "  </tbody>\n",
       "</table>\n",
       "</div>"
      ],
      "text/plain": [
       "                 Subj     FFA-M    FFA-NM     PPA-M    PPA-NM\n",
       "Condition                                                    \n",
       "FH         519.157895 -0.132683 -0.146149 -0.030000 -0.047611\n",
       "Fo         519.157895 -0.118247 -0.115266 -0.003696 -0.005886\n",
       "Fp         519.157895 -0.105495 -0.125047 -0.008496 -0.010177\n",
       "HF         519.157895 -0.154616 -0.142321 -0.003130 -0.022763\n",
       "Ho         519.157895 -0.122476 -0.101064 -0.011414  0.014733\n",
       "Hp         519.157895 -0.114773 -0.086152 -0.027944 -0.031177"
      ]
     },
     "execution_count": 19,
     "metadata": {},
     "output_type": "execute_result"
    }
   ],
   "source": [
    "corr_df.groupby('Condition').mean()"
   ]
  },
  {
   "cell_type": "code",
   "execution_count": null,
   "metadata": {
    "collapsed": false
   },
   "outputs": [],
   "source": []
  },
  {
   "cell_type": "code",
   "execution_count": 8,
   "metadata": {
    "collapsed": false
   },
   "outputs": [],
   "source": []
  },
  {
   "cell_type": "code",
   "execution_count": null,
   "metadata": {
    "collapsed": false
   },
   "outputs": [],
   "source": []
  },
  {
   "cell_type": "code",
   "execution_count": null,
   "metadata": {
    "collapsed": true
   },
   "outputs": [],
   "source": []
  }
 ],
 "metadata": {
  "kernelspec": {
   "display_name": "Python 2",
   "language": "python",
   "name": "python2"
  },
  "language_info": {
   "codemirror_mode": {
    "name": "ipython",
    "version": 2
   },
   "file_extension": ".py",
   "mimetype": "text/x-python",
   "name": "python",
   "nbconvert_exporter": "python",
   "pygments_lexer": "ipython2",
   "version": "2.7.10"
  }
 },
 "nbformat": 4,
 "nbformat_minor": 0
}
