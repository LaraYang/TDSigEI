{
 "cells": [
  {
   "cell_type": "code",
   "execution_count": 1,
   "metadata": {
    "collapsed": false
   },
   "outputs": [
    {
     "name": "stdout",
     "output_type": "stream",
     "text": [
      "Populating the interactive namespace from numpy and matplotlib\n"
     ]
    }
   ],
   "source": [
    "%pylab inline\n",
    "from __future__ import print_function, division\n",
    "import numpy as np\n",
    "import pandas as pd\n",
    "import matplotlib.pyplot as plt\n",
    "import scipy.stats\n",
    "import brewer2mpl"
   ]
  },
  {
   "cell_type": "code",
   "execution_count": 3,
   "metadata": {
    "collapsed": false,
    "scrolled": true
   },
   "outputs": [],
   "source": [
    "#read data\n",
    "%run SC_dataframe.py\n",
    "TS_df = pd.read_csv('Data/TS_df.csv')"
   ]
  },
  {
   "cell_type": "code",
   "execution_count": 9,
   "metadata": {
    "collapsed": false
   },
   "outputs": [],
   "source": [
    "Subjects = [503, 505, 508, 509, 510, 512, 513, 516, 517, 518, 519, 523, 527, 528, 529, 530, 531, 532, 534]\n",
    "Conditions = ['FH', 'Fo', 'Fp', 'HF', 'Ho', 'Hp']\n",
    "MotorMapping = [1, 2]\n",
    "corr_df = []\n",
    "corr_df = pd.DataFrame(columns=['Subj', 'Condition', 'FFA-M','FFA-NM', 'PPA-M', 'PPA-NM'], dtype=float)\n",
    "# extract ts and correlate\n",
    "i=1\n",
    "for s, sub in enumerate(Subjects):\n",
    "    for c, cond in enumerate(Conditions):           \n",
    "        #motor mapping 1, RH-Face LH-Scene\n",
    "        FFA_ts_m1 = np.array(TS_df[(TS_df['Subject'] == sub) & (TS_df['Condition'] == cond) & (TS_df['MotorMapping'] == 1)]['FFA'])\n",
    "        PPA_ts_m1 = np.array(TS_df[(TS_df['Subject'] == sub) & (TS_df['Condition'] == cond) & (TS_df['MotorMapping'] == 1)]['PPA'])\n",
    "        RH_ts_m1 = np.array(TS_df[(TS_df['Subject'] == sub) & (TS_df['Condition'] == cond) & (TS_df['MotorMapping'] == 1)]['RH'])\n",
    "        LH_ts_m1 = np.array(TS_df[(TS_df['Subject'] == sub) & (TS_df['Condition'] == cond) & (TS_df['MotorMapping'] == 1)]['LH'])\n",
    "\n",
    "        #motor mapping 2, RH-Scene, LH-Face\n",
    "        FFA_ts_m2 = np.array(TS_df[(TS_df['Subject'] == sub) & (TS_df['Condition'] == cond) & (TS_df['MotorMapping'] == 2)]['FFA'])\n",
    "        PPA_ts_m2 = np.array(TS_df[(TS_df['Subject'] == sub) & (TS_df['Condition'] == cond) & (TS_df['MotorMapping'] == 2)]['PPA'])\n",
    "        RH_ts_m2 = np.array(TS_df[(TS_df['Subject'] == sub) & (TS_df['Condition'] == cond) & (TS_df['MotorMapping'] == 2)]['RH'])\n",
    "        LH_ts_m2 = np.array(TS_df[(TS_df['Subject'] == sub) & (TS_df['Condition'] == cond) & (TS_df['MotorMapping'] == 2)]['LH'])\n",
    "        \n",
    "        FFA_ts = np.concatenate((FFA_ts_m1, FFA_ts_m2))\n",
    "        PPA_ts = np.concatenate((PPA_ts_m1, PPA_ts_m2))\n",
    "\n",
    "        #here use nan mask to deal with censored data\n",
    "        FFA_ts[FFA_ts==0] = np.nan \n",
    "        PPA_ts[PPA_ts==0] = np.nan\n",
    "        RH_ts_m1[RH_ts_m1==0] = np.nan\n",
    "        LH_ts_m1[LH_ts_m1==0] = np.nan\n",
    "        RH_ts_m2[RH_ts_m2==0] = np.nan\n",
    "        LH_ts_m2[LH_ts_m2==0] = np.nan\n",
    "        FFA_ts = np.ma.array(FFA_ts, mask=np.isnan(FFA_ts))\n",
    "        PPA_ts = np.ma.array(PPA_ts, mask=np.isnan(PPA_ts))\n",
    "        RH_ts_m1 = np.ma.array(RH_ts_m1, mask=np.isnan(RH_ts_m1))\n",
    "        LH_ts_m1 = np.ma.array(LH_ts_m1, mask=np.isnan(LH_ts_m1))\n",
    "        RH_ts_m2 = np.ma.array(RH_ts_m2, mask=np.isnan(RH_ts_m2))\n",
    "        LH_ts_m2 = np.ma.array(LH_ts_m2, mask=np.isnan(LH_ts_m2))\n",
    "\n",
    "        #correlate\n",
    "                  \n",
    "        corr_df.loc[i,'FFA-M'] = np.ma.corrcoef(FFA_ts, np.concatenate((RH_ts_m1, LH_ts_m2)))[0,1]\n",
    "        corr_df.loc[i,'FFA-NM'] = np.ma.corrcoef(FFA_ts, np.concatenate((LH_ts_m1, RH_ts_m2)))[0,1]\n",
    "        corr_df.loc[i,'PPA-M'] = np.ma.corrcoef(PPA_ts, np.concatenate((LH_ts_m1, RH_ts_m2)))[0,1]\n",
    "        corr_df.loc[i,'PPA-NM'] = np.ma.corrcoef(PPA_ts, np.concatenate((RH_ts_m1, LH_ts_m2)))[0,1]\n",
    "\n",
    "        corr_df.loc[i, 'Condition'] = cond\n",
    "        corr_df.loc[i, 'Subj'] = sub\n",
    "        i=i+1\n"
   ]
  },
  {
   "cell_type": "code",
   "execution_count": 13,
   "metadata": {
    "collapsed": false
   },
   "outputs": [
    {
     "data": {
      "text/html": [
       "<div>\n",
       "<table border=\"1\" class=\"dataframe\">\n",
       "  <thead>\n",
       "    <tr style=\"text-align: right;\">\n",
       "      <th></th>\n",
       "      <th>Subj</th>\n",
       "      <th>FFA-M</th>\n",
       "      <th>FFA-NM</th>\n",
       "      <th>PPA-M</th>\n",
       "      <th>PPA-NM</th>\n",
       "    </tr>\n",
       "    <tr>\n",
       "      <th>Condition</th>\n",
       "      <th></th>\n",
       "      <th></th>\n",
       "      <th></th>\n",
       "      <th></th>\n",
       "      <th></th>\n",
       "    </tr>\n",
       "  </thead>\n",
       "  <tbody>\n",
       "    <tr>\n",
       "      <th>FH</th>\n",
       "      <td>519.157895</td>\n",
       "      <td>0.124161</td>\n",
       "      <td>0.100510</td>\n",
       "      <td>0.071292</td>\n",
       "      <td>0.052305</td>\n",
       "    </tr>\n",
       "    <tr>\n",
       "      <th>Fo</th>\n",
       "      <td>519.157895</td>\n",
       "      <td>0.140285</td>\n",
       "      <td>0.141787</td>\n",
       "      <td>0.079698</td>\n",
       "      <td>0.067644</td>\n",
       "    </tr>\n",
       "    <tr>\n",
       "      <th>Fp</th>\n",
       "      <td>519.157895</td>\n",
       "      <td>0.113353</td>\n",
       "      <td>0.112938</td>\n",
       "      <td>0.052147</td>\n",
       "      <td>0.051487</td>\n",
       "    </tr>\n",
       "    <tr>\n",
       "      <th>HF</th>\n",
       "      <td>519.157895</td>\n",
       "      <td>0.144213</td>\n",
       "      <td>0.147874</td>\n",
       "      <td>0.098202</td>\n",
       "      <td>0.075253</td>\n",
       "    </tr>\n",
       "    <tr>\n",
       "      <th>Ho</th>\n",
       "      <td>519.157895</td>\n",
       "      <td>0.112216</td>\n",
       "      <td>0.114675</td>\n",
       "      <td>0.040633</td>\n",
       "      <td>0.053536</td>\n",
       "    </tr>\n",
       "    <tr>\n",
       "      <th>Hp</th>\n",
       "      <td>519.157895</td>\n",
       "      <td>0.132646</td>\n",
       "      <td>0.144410</td>\n",
       "      <td>0.037161</td>\n",
       "      <td>0.048893</td>\n",
       "    </tr>\n",
       "  </tbody>\n",
       "</table>\n",
       "</div>"
      ],
      "text/plain": [
       "                 Subj     FFA-M    FFA-NM     PPA-M    PPA-NM\n",
       "Condition                                                    \n",
       "FH         519.157895  0.124161  0.100510  0.071292  0.052305\n",
       "Fo         519.157895  0.140285  0.141787  0.079698  0.067644\n",
       "Fp         519.157895  0.113353  0.112938  0.052147  0.051487\n",
       "HF         519.157895  0.144213  0.147874  0.098202  0.075253\n",
       "Ho         519.157895  0.112216  0.114675  0.040633  0.053536\n",
       "Hp         519.157895  0.132646  0.144410  0.037161  0.048893"
      ]
     },
     "execution_count": 13,
     "metadata": {},
     "output_type": "execute_result"
    }
   ],
   "source": [
    "corr_df.groupby('Condition').mean()"
   ]
  },
  {
   "cell_type": "code",
   "execution_count": null,
   "metadata": {
    "collapsed": false
   },
   "outputs": [],
   "source": []
  },
  {
   "cell_type": "code",
   "execution_count": 8,
   "metadata": {
    "collapsed": false
   },
   "outputs": [],
   "source": []
  },
  {
   "cell_type": "code",
   "execution_count": null,
   "metadata": {
    "collapsed": false
   },
   "outputs": [],
   "source": []
  },
  {
   "cell_type": "code",
   "execution_count": null,
   "metadata": {
    "collapsed": true
   },
   "outputs": [],
   "source": []
  }
 ],
 "metadata": {
  "kernelspec": {
   "display_name": "Python 2",
   "language": "python",
   "name": "python2"
  },
  "language_info": {
   "codemirror_mode": {
    "name": "ipython",
    "version": 2
   },
   "file_extension": ".py",
   "mimetype": "text/x-python",
   "name": "python",
   "nbconvert_exporter": "python",
   "pygments_lexer": "ipython2",
   "version": "2.7.10"
  }
 },
 "nbformat": 4,
 "nbformat_minor": 0
}
